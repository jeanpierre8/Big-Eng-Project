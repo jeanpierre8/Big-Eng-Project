{
 "cells": [
  {
   "cell_type": "code",
   "execution_count": 1,
   "metadata": {},
   "outputs": [
    {
     "name": "stdout",
     "output_type": "stream",
     "text": [
      "Collecting vaderSentiment\n",
      "  Downloading vaderSentiment-3.3.2-py2.py3-none-any.whl (125 kB)\n",
      "Requirement already satisfied: requests in c:\\users\\jeanp\\anaconda3\\lib\\site-packages (from vaderSentiment) (2.24.0)\n",
      "Requirement already satisfied: chardet<4,>=3.0.2 in c:\\users\\jeanp\\anaconda3\\lib\\site-packages (from requests->vaderSentiment) (3.0.4)\n",
      "Requirement already satisfied: urllib3!=1.25.0,!=1.25.1,<1.26,>=1.21.1 in c:\\users\\jeanp\\anaconda3\\lib\\site-packages (from requests->vaderSentiment) (1.25.11)\n",
      "Requirement already satisfied: idna<3,>=2.5 in c:\\users\\jeanp\\anaconda3\\lib\\site-packages (from requests->vaderSentiment) (2.10)\n",
      "Requirement already satisfied: certifi>=2017.4.17 in c:\\users\\jeanp\\anaconda3\\lib\\site-packages (from requests->vaderSentiment) (2020.6.20)\n",
      "Installing collected packages: vaderSentiment\n",
      "Successfully installed vaderSentiment-3.3.2\n",
      "Note: you may need to restart the kernel to use updated packages.\n"
     ]
    }
   ],
   "source": [
    "pip install vaderSentiment"
   ]
  },
  {
   "cell_type": "code",
   "execution_count": 11,
   "metadata": {},
   "outputs": [],
   "source": [
    "from vaderSentiment.vaderSentiment import SentimentIntensityAnalyzer"
   ]
  },
  {
   "cell_type": "code",
   "execution_count": 17,
   "metadata": {},
   "outputs": [],
   "source": [
    "sentence=\"i am in a good mood\""
   ]
  },
  {
   "cell_type": "code",
   "execution_count": 30,
   "metadata": {},
   "outputs": [],
   "source": [
    "def sentiment_scores(sentence):\n",
    "    obj = SentimentIntensityAnalyzer()\n",
    "    sentiment=obj.polarity_scores(sentence)\n",
    "    print(\"sentence was rated as \", sentiment['neg']*100, \"% Negative\")\n",
    "    print(\"sentence was rated as \", sentiment['neu']*100, \"% Neutral\")\n",
    "    print(\"sentence was rated as \", sentiment['pos']*100, \"% Positive\")\n",
    "    print(\"\")\n",
    "    if sentiment['compound']>=0.05:\n",
    "        print(\"The sentiment is Positive\")\n",
    "    elif sentiment['compound']<= -0.05:\n",
    "        print(\"The sentiment is Negative\")\n",
    "    else:\n",
    "        print(\"The sentiment is Neutral\")\n"
   ]
  },
  {
   "cell_type": "code",
   "execution_count": 31,
   "metadata": {
    "scrolled": true
   },
   "outputs": [
    {
     "name": "stdout",
     "output_type": "stream",
     "text": [
      "sentence was rated as  0.0 % Negative\n",
      "sentence was rated as  63.3 % Neutral\n",
      "sentence was rated as  36.7 % Positive\n",
      "\n",
      "The sentiment is Positive\n"
     ]
    }
   ],
   "source": [
    "sentiment_scores(sentence)"
   ]
  },
  {
   "cell_type": "code",
   "execution_count": 5,
   "metadata": {},
   "outputs": [
    {
     "name": "stdout",
     "output_type": "stream",
     "text": [
      "['Think', 'and', 'wonder', 'wonder', 'and', 'think']\n"
     ]
    }
   ],
   "source": [
    "import nltk\n",
    "sentence  = \"Think and wonder, € wonder and think.\"\n",
    "\n",
    "tokenizer = nltk.RegexpTokenizer(r\"\\w+\")\n",
    "new_words = tokenizer.tokenize(sentence)\n",
    "\n",
    "print(new_words)"
   ]
  },
  {
   "cell_type": "code",
   "execution_count": 6,
   "metadata": {},
   "outputs": [
    {
     "name": "stdout",
     "output_type": "stream",
     "text": [
      "String with Punctuation:  Python P$#@!*oo()&l,. is ##th$e$ Bes.t pl*ace to Le@arn P)(*y&tho.n\n",
      "String without Punctuation:  Python Pool is the Best place to Learn Python\n"
     ]
    }
   ],
   "source": [
    "import re\n",
    " \n",
    "my_string = \"Python P$#@!*oo()&l,. is ##th$e$ Bes.t pl*ace to Le@arn P)(*y&tho.n\"\n",
    " \n",
    "op_string = re.sub(r'[^\\w\\s]','',my_string)\n",
    " \n",
    "print('String with Punctuation: ', my_string)\n",
    "print('String without Punctuation: ', op_string)"
   ]
  },
  {
   "cell_type": "code",
   "execution_count": null,
   "metadata": {},
   "outputs": [],
   "source": []
  }
 ],
 "metadata": {
  "kernelspec": {
   "display_name": "Python 3",
   "language": "python",
   "name": "python3"
  },
  "language_info": {
   "codemirror_mode": {
    "name": "ipython",
    "version": 3
   },
   "file_extension": ".py",
   "mimetype": "text/x-python",
   "name": "python",
   "nbconvert_exporter": "python",
   "pygments_lexer": "ipython3",
   "version": "3.8.5"
  }
 },
 "nbformat": 4,
 "nbformat_minor": 4
}
